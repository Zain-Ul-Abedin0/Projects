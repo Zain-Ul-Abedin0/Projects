{
 "cells": [
  {
   "cell_type": "code",
   "execution_count": 98,
   "id": "b358c9d8",
   "metadata": {},
   "outputs": [],
   "source": [
    "from pyspark.sql import SparkSession\n",
    "from pyspark.sql.functions import *\n",
    "from pyspark.ml.feature import StringIndexer\n",
    "from pyspark.ml.feature import OneHotEncoder\n",
    "from pyspark.ml.regression import LinearRegression, DecisionTreeRegressor, RandomForestRegressor\n",
    "from pyspark.ml.feature import VectorAssembler\n",
    "from pyspark.ml import Pipeline\n",
    "from pyspark.sql.types import DoubleType\n",
    "from pyspark.ml.evaluation import RegressionEvaluator"
   ]
  },
  {
   "cell_type": "code",
   "execution_count": 60,
   "id": "8aabbf80",
   "metadata": {},
   "outputs": [],
   "source": [
    "spark=SparkSession.builder.appName('BD_Assignment3').getOrCreate()"
   ]
  },
  {
   "cell_type": "code",
   "execution_count": 61,
   "id": "c1f3d4f7",
   "metadata": {},
   "outputs": [],
   "source": [
    "df=spark.read.csv('Movies.csv',header=True)"
   ]
  },
  {
   "cell_type": "code",
   "execution_count": 62,
   "id": "7f4134dc",
   "metadata": {},
   "outputs": [
    {
     "name": "stdout",
     "output_type": "stream",
     "text": [
      "root\n",
      " |-- Year: string (nullable = true)\n",
      " |-- Length: string (nullable = true)\n",
      " |-- Title: string (nullable = true)\n",
      " |-- Genre: string (nullable = true)\n",
      " |-- Actor: string (nullable = true)\n",
      " |-- Actress: string (nullable = true)\n",
      " |-- Director: string (nullable = true)\n",
      " |-- Popularity: string (nullable = true)\n",
      " |-- Awards: string (nullable = true)\n",
      " |-- Image: string (nullable = true)\n",
      "\n",
      "+----+------+--------------------+------+-----------------+-------------+---------------+----------+------+----------------+\n",
      "|Year|Length|               Title| Genre|            Actor|      Actress|       Director|Popularity|Awards|           Image|\n",
      "+----+------+--------------------+------+-----------------+-------------+---------------+----------+------+----------------+\n",
      "|1990|   111|Tie Me Up! Tie Me...|Comedy|  BanderasAntonio|AbrilVictoria| AlmodóvarPedro|        68|    No|NicholasCage.png|\n",
      "|1991|   113|          High Heels|Comedy|       BoséMiguel|AbrilVictoria| AlmodóvarPedro|        68|    No|NicholasCage.png|\n",
      "|1983|   104|        Dead ZoneThe|Horror|WalkenChristopher|  AdamsBrooke|CronenbergDavid|        79|    No|NicholasCage.png|\n",
      "|1979|   122|                Cuba|Action|      ConnerySean|  AdamsBrooke|  LesterRichard|         6|    No| seanConnery.png|\n",
      "|1978|    94|      Days of Heaven| Drama|      GereRichard|  AdamsBrooke| MalickTerrence|        14|    No|NicholasCage.png|\n",
      "+----+------+--------------------+------+-----------------+-------------+---------------+----------+------+----------------+\n",
      "only showing top 5 rows\n",
      "\n"
     ]
    }
   ],
   "source": [
    "df.printSchema()\n",
    "df.show(5)"
   ]
  },
  {
   "cell_type": "code",
   "execution_count": 63,
   "id": "352abc53",
   "metadata": {},
   "outputs": [
    {
     "name": "stdout",
     "output_type": "stream",
     "text": [
      "['Year', 'Length', 'Title', 'Genre', 'Actor', 'Actress', 'Director', 'Popularity', 'Awards', 'Image']\n"
     ]
    }
   ],
   "source": [
    "print(df.columns)\n"
   ]
  },
  {
   "cell_type": "code",
   "execution_count": 64,
   "id": "d67043b0",
   "metadata": {},
   "outputs": [],
   "source": [
    "df = df.drop(\"Image\", \"Awards\",'Title')"
   ]
  },
  {
   "cell_type": "code",
   "execution_count": 65,
   "id": "c26e3c9a",
   "metadata": {},
   "outputs": [
    {
     "name": "stdout",
     "output_type": "stream",
     "text": [
      "+----+------+-----+-----+-------+--------+----------+\n",
      "|Year|Length|Genre|Actor|Actress|Director|Popularity|\n",
      "+----+------+-----+-----+-------+--------+----------+\n",
      "|   0|    67|    2|    8|    378|     253|         6|\n",
      "+----+------+-----+-----+-------+--------+----------+\n",
      "\n"
     ]
    }
   ],
   "source": [
    "df.select([count(when(col(c).isNull(), c)).alias(c) for c in df.columns]).show()"
   ]
  },
  {
   "cell_type": "code",
   "execution_count": 66,
   "id": "cd6061a5",
   "metadata": {},
   "outputs": [],
   "source": [
    "mean_popularity = df.select(mean(\"Popularity\")).first()[0]\n",
    "df = df.fillna({\"Popularity\": mean_popularity})\n",
    "mean_Length = df.select(mean(\"Length\")).first()[0]\n",
    "df = df.fillna({\"Length\": mean_Length})"
   ]
  },
  {
   "cell_type": "code",
   "execution_count": 67,
   "id": "b853c2c0",
   "metadata": {},
   "outputs": [
    {
     "name": "stdout",
     "output_type": "stream",
     "text": [
      "+----+------+-----+-----+-------+--------+----------+\n",
      "|Year|Length|Genre|Actor|Actress|Director|Popularity|\n",
      "+----+------+-----+-----+-------+--------+----------+\n",
      "|   0|     0|    0|    0|      0|       0|         0|\n",
      "+----+------+-----+-----+-------+--------+----------+\n",
      "\n"
     ]
    }
   ],
   "source": [
    "df = df.dropna(subset=[\"Genre\", \"Actor\", \"Actress\", \"Director\"])\n",
    "df.select([count(when(col(c).isNull(), c)).alias(c) for c in df.columns]).show()"
   ]
  },
  {
   "cell_type": "code",
   "execution_count": 74,
   "id": "ef88982a",
   "metadata": {},
   "outputs": [],
   "source": [
    "df = df.drop(\"GenreIndex\", \"ActorIndex\", \"ActressIndex\", \"DirectorIndex\", \"GenreVec\", \"ActorVec\", \"ActressVec\", \"DirectorVec\")\n"
   ]
  },
  {
   "cell_type": "code",
   "execution_count": 75,
   "id": "3def0170",
   "metadata": {},
   "outputs": [],
   "source": [
    "indexers = [\n",
    "    StringIndexer(inputCol=\"Genre\", outputCol=\"GenreIndex\"),\n",
    "    StringIndexer(inputCol=\"Actor\", outputCol=\"ActorIndex\"),\n",
    "    StringIndexer(inputCol=\"Actress\", outputCol=\"ActressIndex\"),\n",
    "    StringIndexer(inputCol=\"Director\", outputCol=\"DirectorIndex\"),\n",
    "]\n"
   ]
  },
  {
   "cell_type": "code",
   "execution_count": 76,
   "id": "f75e80f8",
   "metadata": {},
   "outputs": [],
   "source": [
    "encoders = [\n",
    "    OneHotEncoder(inputCol=\"GenreIndex\", outputCol=\"GenreVec\"),\n",
    "    OneHotEncoder(inputCol=\"ActorIndex\", outputCol=\"ActorVec\"),\n",
    "    OneHotEncoder(inputCol=\"ActressIndex\", outputCol=\"ActressVec\"),\n",
    "    OneHotEncoder(inputCol=\"DirectorIndex\", outputCol=\"DirectorVec\"),\n",
    "]"
   ]
  },
  {
   "cell_type": "code",
   "execution_count": 77,
   "id": "b6c3c43d",
   "metadata": {},
   "outputs": [],
   "source": [
    "pipeline = Pipeline(stages=indexers + encoders)\n",
    "df = pipeline.fit(df).transform(df)"
   ]
  },
  {
   "cell_type": "code",
   "execution_count": 80,
   "id": "d97025f6",
   "metadata": {},
   "outputs": [],
   "source": [
    "df = df.drop(\"features\")"
   ]
  },
  {
   "cell_type": "code",
   "execution_count": 81,
   "id": "c0f0a8a1",
   "metadata": {},
   "outputs": [],
   "source": [
    "assembler = VectorAssembler(inputCols=[\"GenreVec\", \"ActorVec\", \"ActressVec\", \"DirectorVec\"], outputCol=\"features\")\n",
    "df = assembler.transform(df)"
   ]
  },
  {
   "cell_type": "code",
   "execution_count": 82,
   "id": "3c9e073c",
   "metadata": {},
   "outputs": [],
   "source": [
    "df = df.drop(\"Genre\", \"Actor\", \"Actress\", \"Director\")"
   ]
  },
  {
   "cell_type": "code",
   "execution_count": 83,
   "id": "57b254a0",
   "metadata": {},
   "outputs": [
    {
     "name": "stdout",
     "output_type": "stream",
     "text": [
      "+----+------+----------+----------+----------+------------+-------------+--------------+-----------------+----------------+-----------------+--------------------+\n",
      "|Year|Length|Popularity|GenreIndex|ActorIndex|ActressIndex|DirectorIndex|      GenreVec|         ActorVec|      ActressVec|      DirectorVec|            features|\n",
      "+----+------+----------+----------+----------+------------+-------------+--------------+-----------------+----------------+-----------------+--------------------+\n",
      "|1990|   111|        68|       1.0|      60.0|        94.0|         25.0|(14,[1],[1.0])| (597,[60],[1.0])|(663,[94],[1.0])| (652,[25],[1.0])|(1926,[1,74,705,1...|\n",
      "|1991|   113|        68|       1.0|     208.0|        94.0|         25.0|(14,[1],[1.0])|(597,[208],[1.0])|(663,[94],[1.0])| (652,[25],[1.0])|(1926,[1,222,705,...|\n",
      "|1983|   104|        79|       5.0|     155.0|        53.0|         11.0|(14,[5],[1.0])|(597,[155],[1.0])|(663,[53],[1.0])| (652,[11],[1.0])|(1926,[5,169,664,...|\n",
      "|1979|   122|         6|       2.0|       1.0|        53.0|        162.0|(14,[2],[1.0])|  (597,[1],[1.0])|(663,[53],[1.0])|(652,[162],[1.0])|(1926,[2,15,664,1...|\n",
      "|1978|    94|        14|       0.0|      24.0|        53.0|        457.0|(14,[0],[1.0])| (597,[24],[1.0])|(663,[53],[1.0])|(652,[457],[1.0])|(1926,[0,38,664,1...|\n",
      "+----+------+----------+----------+----------+------------+-------------+--------------+-----------------+----------------+-----------------+--------------------+\n",
      "only showing top 5 rows\n",
      "\n"
     ]
    }
   ],
   "source": [
    "df.show(5)"
   ]
  },
  {
   "cell_type": "code",
   "execution_count": 91,
   "id": "0808414a",
   "metadata": {},
   "outputs": [],
   "source": [
    "df = df.withColumn(\"Length\", df[\"Length\"].cast(DoubleType()))"
   ]
  },
  {
   "cell_type": "code",
   "execution_count": 92,
   "id": "d1806f58",
   "metadata": {},
   "outputs": [
    {
     "name": "stdout",
     "output_type": "stream",
     "text": [
      "root\n",
      " |-- Year: string (nullable = true)\n",
      " |-- Length: double (nullable = true)\n",
      " |-- Popularity: string (nullable = false)\n",
      " |-- GenreIndex: double (nullable = false)\n",
      " |-- ActorIndex: double (nullable = false)\n",
      " |-- ActressIndex: double (nullable = false)\n",
      " |-- DirectorIndex: double (nullable = false)\n",
      " |-- GenreVec: vector (nullable = true)\n",
      " |-- ActorVec: vector (nullable = true)\n",
      " |-- ActressVec: vector (nullable = true)\n",
      " |-- DirectorVec: vector (nullable = true)\n",
      " |-- features: vector (nullable = true)\n",
      "\n"
     ]
    }
   ],
   "source": [
    "df.printSchema()"
   ]
  },
  {
   "cell_type": "code",
   "execution_count": 93,
   "id": "db878686",
   "metadata": {},
   "outputs": [],
   "source": [
    "train_data, test_data = df.randomSplit([0.8, 0.2], seed=1234)"
   ]
  },
  {
   "cell_type": "code",
   "execution_count": 94,
   "id": "a170a460",
   "metadata": {},
   "outputs": [],
   "source": [
    "lr = LinearRegression(featuresCol=\"features\", labelCol=\"Length\")\n",
    "dt = DecisionTreeRegressor(featuresCol=\"features\", labelCol=\"Length\")\n",
    "rf = RandomForestRegressor(featuresCol=\"features\", labelCol=\"Length\")"
   ]
  },
  {
   "cell_type": "code",
   "execution_count": 95,
   "id": "144b5b1e",
   "metadata": {},
   "outputs": [],
   "source": [
    "lr_model = lr.fit(train_data)\n",
    "dt_model = dt.fit(train_data)\n",
    "rf_model = rf.fit(train_data)"
   ]
  },
  {
   "cell_type": "code",
   "execution_count": 96,
   "id": "02e6aac4",
   "metadata": {},
   "outputs": [],
   "source": [
    "lr_predictions = lr_model.transform(test_data)\n",
    "dt_predictions = dt_model.transform(test_data)\n",
    "rf_predictions = rf_model.transform(test_data)"
   ]
  },
  {
   "cell_type": "code",
   "execution_count": 97,
   "id": "63768bce",
   "metadata": {},
   "outputs": [
    {
     "name": "stdout",
     "output_type": "stream",
     "text": [
      "+----+------------------+----------+----------+----------+------------+-------------+--------------+-----------------+-----------------+-----------------+--------------------+------------------+\n",
      "|Year|            Length|Popularity|GenreIndex|ActorIndex|ActressIndex|DirectorIndex|      GenreVec|         ActorVec|       ActressVec|      DirectorVec|            features|        prediction|\n",
      "+----+------------------+----------+----------+----------+------------+-------------+--------------+-----------------+-----------------+-----------------+--------------------+------------------+\n",
      "|1924|              95.0|        74|       0.0|     418.0|       583.0|         34.0|(14,[0],[1.0])|(597,[418],[1.0])|(663,[583],[1.0])| (652,[34],[1.0])|(1926,[0,432,1194...|102.32069228034689|\n",
      "|1926|              66.0|        76|       3.0|     241.0|       219.0|          1.0|(14,[3],[1.0])|(597,[241],[1.0])|(663,[219],[1.0])|  (652,[1],[1.0])|(1926,[3,255,830,...| 99.90920069500048|\n",
      "|1931|              74.0|        66|       0.0|     170.0|         1.0|         26.0|(14,[0],[1.0])|(597,[170],[1.0])|  (663,[1],[1.0])| (652,[26],[1.0])|(1926,[0,184,612,...| 97.74522995321585|\n",
      "|1931|              95.0|        84|       0.0|     245.0|       377.0|          2.0|(14,[0],[1.0])|(597,[245],[1.0])|(663,[377],[1.0])|  (652,[2],[1.0])|(1926,[0,259,988,...|100.18954774070266|\n",
      "|1931|105.17964824120602|        51|       4.0|       0.0|       346.0|        436.0|(14,[4],[1.0])|  (597,[0],[1.0])|(663,[346],[1.0])|(652,[436],[1.0])|(1926,[4,14,957,1...| 102.5097112054973|\n",
      "+----+------------------+----------+----------+----------+------------+-------------+--------------+-----------------+-----------------+-----------------+--------------------+------------------+\n",
      "only showing top 5 rows\n",
      "\n",
      "+----+------------------+----------+----------+----------+------------+-------------+--------------+-----------------+-----------------+-----------------+--------------------+------------------+\n",
      "|Year|            Length|Popularity|GenreIndex|ActorIndex|ActressIndex|DirectorIndex|      GenreVec|         ActorVec|       ActressVec|      DirectorVec|            features|        prediction|\n",
      "+----+------------------+----------+----------+----------+------------+-------------+--------------+-----------------+-----------------+-----------------+--------------------+------------------+\n",
      "|1924|              95.0|        74|       0.0|     418.0|       583.0|         34.0|(14,[0],[1.0])|(597,[418],[1.0])|(663,[583],[1.0])| (652,[34],[1.0])|(1926,[0,432,1194...| 110.7341819937124|\n",
      "|1926|              66.0|        76|       3.0|     241.0|       219.0|          1.0|(14,[3],[1.0])|(597,[241],[1.0])|(663,[219],[1.0])|  (652,[1],[1.0])|(1926,[3,255,830,...|102.73484625858332|\n",
      "|1931|              74.0|        66|       0.0|     170.0|         1.0|         26.0|(14,[0],[1.0])|(597,[170],[1.0])|  (663,[1],[1.0])| (652,[26],[1.0])|(1926,[0,184,612,...| 110.7341819937124|\n",
      "|1931|              95.0|        84|       0.0|     245.0|       377.0|          2.0|(14,[0],[1.0])|(597,[245],[1.0])|(663,[377],[1.0])|  (652,[2],[1.0])|(1926,[0,259,988,...| 110.7341819937124|\n",
      "|1931|105.17964824120602|        51|       4.0|       0.0|       346.0|        436.0|(14,[4],[1.0])|  (597,[0],[1.0])|(663,[346],[1.0])|(652,[436],[1.0])|(1926,[4,14,957,1...|102.73484625858332|\n",
      "+----+------------------+----------+----------+----------+------------+-------------+--------------+-----------------+-----------------+-----------------+--------------------+------------------+\n",
      "only showing top 5 rows\n",
      "\n",
      "+----+------------------+----------+----------+----------+------------+-------------+--------------+-----------------+-----------------+-----------------+--------------------+------------------+\n",
      "|Year|            Length|Popularity|GenreIndex|ActorIndex|ActressIndex|DirectorIndex|      GenreVec|         ActorVec|       ActressVec|      DirectorVec|            features|        prediction|\n",
      "+----+------------------+----------+----------+----------+------------+-------------+--------------+-----------------+-----------------+-----------------+--------------------+------------------+\n",
      "|1924|              95.0|        74|       0.0|     418.0|       583.0|         34.0|(14,[0],[1.0])|(597,[418],[1.0])|(663,[583],[1.0])| (652,[34],[1.0])|(1926,[0,432,1194...|107.56641712308885|\n",
      "|1926|              66.0|        76|       3.0|     241.0|       219.0|          1.0|(14,[3],[1.0])|(597,[241],[1.0])|(663,[219],[1.0])|  (652,[1],[1.0])|(1926,[3,255,830,...|104.79155991220163|\n",
      "|1931|              74.0|        66|       0.0|     170.0|         1.0|         26.0|(14,[0],[1.0])|(597,[170],[1.0])|  (663,[1],[1.0])| (652,[26],[1.0])|(1926,[0,184,612,...|107.56641712308885|\n",
      "|1931|              95.0|        84|       0.0|     245.0|       377.0|          2.0|(14,[0],[1.0])|(597,[245],[1.0])|(663,[377],[1.0])|  (652,[2],[1.0])|(1926,[0,259,988,...|107.56641712308885|\n",
      "|1931|105.17964824120602|        51|       4.0|       0.0|       346.0|        436.0|(14,[4],[1.0])|  (597,[0],[1.0])|(663,[346],[1.0])|(652,[436],[1.0])|(1926,[4,14,957,1...|104.79155991220163|\n",
      "+----+------------------+----------+----------+----------+------------+-------------+--------------+-----------------+-----------------+-----------------+--------------------+------------------+\n",
      "only showing top 5 rows\n",
      "\n"
     ]
    }
   ],
   "source": [
    "lr_predictions.show(5)\n",
    "dt_predictions.show(5)\n",
    "rf_predictions.show(5)"
   ]
  },
  {
   "cell_type": "code",
   "execution_count": 99,
   "id": "a2a69b6a",
   "metadata": {},
   "outputs": [],
   "source": [
    "evaluator = RegressionEvaluator(predictionCol=\"prediction\", labelCol=\"Length\", metricName=\"rmse\")"
   ]
  },
  {
   "cell_type": "code",
   "execution_count": 100,
   "id": "99b6a7fa",
   "metadata": {},
   "outputs": [],
   "source": [
    "lr_rmse = evaluator.evaluate(lr_predictions)\n",
    "dt_rmse = evaluator.evaluate(dt_predictions)\n",
    "rf_rmse = evaluator.evaluate(rf_predictions)\n"
   ]
  },
  {
   "cell_type": "code",
   "execution_count": 101,
   "id": "d69d0d1f",
   "metadata": {},
   "outputs": [
    {
     "name": "stdout",
     "output_type": "stream",
     "text": [
      "Linear Regression RMSE: 43.59517010029684\n",
      "Decision Tree RMSE: 39.17585883067662\n",
      "Random Forest RMSE: 39.449560302306324\n"
     ]
    }
   ],
   "source": [
    "print(f\"Linear Regression RMSE: {lr_rmse}\")\n",
    "print(f\"Decision Tree RMSE: {dt_rmse}\")\n",
    "print(f\"Random Forest RMSE: {rf_rmse}\")\n"
   ]
  },
  {
   "cell_type": "code",
   "execution_count": 102,
   "id": "8044ba11",
   "metadata": {},
   "outputs": [
    {
     "data": {
      "text/plain": [
       "RegressionEvaluator_56033b4e02da"
      ]
     },
     "execution_count": 102,
     "metadata": {},
     "output_type": "execute_result"
    }
   ],
   "source": [
    "evaluator.setMetricName(\"r2\")"
   ]
  },
  {
   "cell_type": "code",
   "execution_count": 103,
   "id": "62c7c1f3",
   "metadata": {},
   "outputs": [],
   "source": [
    "lr_r2 = evaluator.evaluate(lr_predictions)\n",
    "dt_r2 = evaluator.evaluate(dt_predictions)\n",
    "rf_r2 = evaluator.evaluate(rf_predictions)"
   ]
  },
  {
   "cell_type": "code",
   "execution_count": 104,
   "id": "5b76b4c8",
   "metadata": {},
   "outputs": [
    {
     "name": "stdout",
     "output_type": "stream",
     "text": [
      "Linear Regression R²: -0.2285509100400256\n",
      "Decision Tree R²: 0.00790455202835838\n",
      "Random Forest R²: -0.006006389045799088\n"
     ]
    }
   ],
   "source": [
    "print(f\"Linear Regression R²: {lr_r2}\")\n",
    "print(f\"Decision Tree R²: {dt_r2}\")\n",
    "print(f\"Random Forest R²: {rf_r2}\")"
   ]
  },
  {
   "cell_type": "code",
   "execution_count": 1,
   "id": "f2046bad",
   "metadata": {},
   "outputs": [],
   "source": [
    "from pyspark import SparkContext\n",
    "from pyspark.sql import SparkSession\n",
    "\n",
    "try:\n",
    "    sc = SparkContext.getOrCreate()\n",
    "    sc.stop()\n",
    "except:\n",
    "    pass\n",
    "\n",
    "try:\n",
    "    spark = SparkSession.builder.getOrCreate()\n",
    "    spark.stop()\n",
    "except:\n",
    "    pass\n"
   ]
  }
 ],
 "metadata": {
  "kernelspec": {
   "display_name": "Python 3",
   "language": "python",
   "name": "python3"
  },
  "language_info": {
   "codemirror_mode": {
    "name": "ipython",
    "version": 3
   },
   "file_extension": ".py",
   "mimetype": "text/x-python",
   "name": "python",
   "nbconvert_exporter": "python",
   "pygments_lexer": "ipython3",
   "version": "3.10.0"
  }
 },
 "nbformat": 4,
 "nbformat_minor": 5
}
